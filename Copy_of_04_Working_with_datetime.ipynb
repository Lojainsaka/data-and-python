{
  "nbformat": 4,
  "nbformat_minor": 0,
  "metadata": {
    "colab": {
      "provenance": [],
      "include_colab_link": true
    },
    "kernelspec": {
      "name": "python3",
      "display_name": "Python 3"
    },
    "language_info": {
      "name": "python"
    }
  },
  "cells": [
    {
      "cell_type": "markdown",
      "metadata": {
        "id": "view-in-github",
        "colab_type": "text"
      },
      "source": [
        "<a href=\"https://colab.research.google.com/github/Lojainsaka/data-and-python/blob/main/Copy_of_04_Working_with_datetime.ipynb\" target=\"_parent\"><img src=\"https://colab.research.google.com/assets/colab-badge.svg\" alt=\"Open In Colab\"/></a>"
      ]
    },
    {
      "cell_type": "markdown",
      "metadata": {
        "id": "7iQyKP-SQiw1"
      },
      "source": [
        "# User-defined functions using datetime library\n",
        "\n",
        "---\n"
      ]
    },
    {
      "cell_type": "markdown",
      "metadata": {
        "id": "Vi93h5I4QnKs"
      },
      "source": [
        "## Watch this presentation before starting this worksheet, if not viewed already:\n",
        "\n",
        "[Working_with_datetime - PRESENTATION](https://docs.google.com/presentation/d/e/2PACX-1vSLyCA6CyX5oNWaYmUbMO7h_70BIgqTEfzUCkU13NrUg1K23z3JDjoOxnyySO_thR2EWQDnzUMiZjnE/pub?start=false&loop=false&delayms=3000)"
      ]
    },
    {
      "cell_type": "markdown",
      "metadata": {
        "id": "MIDLi7CNR034"
      },
      "source": [
        "---\n",
        "### Exercise 1 - print current date and time\n",
        "\n",
        "Write a function that will get the date and time now, then print it.  \n",
        "\n",
        "*Hint:  the format has been added for you, the other exercises will follow a similar format.   Always remember to import datetime from datetime as shown below*"
      ]
    },
    {
      "cell_type": "code",
      "metadata": {
        "id": "gS6GJdXbQfHp",
        "colab": {
          "base_uri": "https://localhost:8080/"
        },
        "outputId": "de378cc0-e7bd-45f0-eb3e-abd3d48ecf68"
      },
      "source": [
        "from datetime import datetime\n",
        "\n",
        "def get_datetime_now():\n",
        "  # add your code to get the current date and time below here\n",
        " now = datetime.now()\n",
        " print (now)\n",
        "get_datetime_now()"
      ],
      "execution_count": 14,
      "outputs": [
        {
          "output_type": "stream",
          "name": "stdout",
          "text": [
            "2024-11-17 23:31:10.807484\n"
          ]
        }
      ]
    },
    {
      "cell_type": "markdown",
      "metadata": {
        "id": "Yy24sL0bUtpF"
      },
      "source": [
        "---\n",
        "### Exercise 2 - print the current year\n",
        "\n",
        "Write a function that will get and print the current year.  "
      ]
    },
    {
      "cell_type": "code",
      "metadata": {
        "id": "YqlQqPIqUtyr",
        "colab": {
          "base_uri": "https://localhost:8080/"
        },
        "outputId": "97af28d2-0df7-4b60-bbe7-68969ba49705"
      },
      "source": [
        "from datetime import datetime\n",
        "def get_current_year() :\n",
        "  current_year=datetime.now().year\n",
        "  print (current_year)\n",
        "get_current_year()"
      ],
      "execution_count": 16,
      "outputs": [
        {
          "output_type": "stream",
          "name": "stdout",
          "text": [
            "2024\n"
          ]
        }
      ]
    },
    {
      "cell_type": "markdown",
      "metadata": {
        "id": "FzSVCaJKV1O1"
      },
      "source": [
        "---\n",
        "### Exercise 3 - print the current day of the month\n",
        "\n",
        "Write a function that will get and print the current day of the month.  "
      ]
    },
    {
      "cell_type": "code",
      "metadata": {
        "id": "OP4ZIXBWV1Yj",
        "colab": {
          "base_uri": "https://localhost:8080/"
        },
        "outputId": "6f0aeee5-f8ad-473e-c706-27d8bd7f0d5b"
      },
      "source": [
        "from datetime import datetime\n",
        "def get_current_day() :\n",
        "  current_day=datetime.now().day\n",
        "  print (current_day)\n",
        "get_current_day()"
      ],
      "execution_count": 17,
      "outputs": [
        {
          "output_type": "stream",
          "name": "stdout",
          "text": [
            "17\n"
          ]
        }
      ]
    },
    {
      "cell_type": "markdown",
      "metadata": {
        "id": "a8euCtdmWIDE"
      },
      "source": [
        "---\n",
        "### Exercise 4 - create a new date\n",
        "\n",
        "Write a function that will:\n",
        "\n",
        "*  create 3 variables: day, month, year\n",
        "*  assign each variable with a number that is valid for that variable (e.g. month can only be between 1 and 12)\n",
        "*  create a date using these variables\n",
        "*  print the date\n",
        "\n",
        "**Expected output**:  \n",
        "If day is 22, month is 4 and year is 2023 then the output will look like this:  \n",
        "`2023-04-22 00:00:00`\n",
        "\n"
      ]
    },
    {
      "cell_type": "code",
      "metadata": {
        "id": "FbOFnTwnWILN",
        "colab": {
          "base_uri": "https://localhost:8080/"
        },
        "outputId": "b074f504-2b6c-4a81-e06b-5960caff64de"
      },
      "source": [
        "from datetime import datetime\n",
        "def create_a_new_date() :\n",
        " day = int(input(\"Enter day (less than 31): \"))\n",
        " month = int(input(\"Enter month (less than or equal to 12): \"))\n",
        " year = int(input(\"Enter year: \"))\n",
        " time = datetime(year, month, day, 0, 0)\n",
        " print(time.strftime(\"%Y-%m-%d %H:%M:%S\"))\n",
        "create_a_new_date()"
      ],
      "execution_count": 36,
      "outputs": [
        {
          "output_type": "stream",
          "name": "stdout",
          "text": [
            "Enter day (less than 31): 22\n",
            "Enter month (less than or equal to 12): 4\n",
            "Enter year: 2023\n",
            "2023-04-22 00:00:00\n"
          ]
        }
      ]
    },
    {
      "cell_type": "markdown",
      "metadata": {
        "id": "f5SKVuE0WfcE"
      },
      "source": [
        "---\n",
        "### Exercise 5 - create a date and time and use strftime() to print\n",
        "\n",
        "Write a function that asks the user to enter a day, month, year, hour, minute, second (6 numbers which will need to be converted to integers) and will then :  \n",
        "*   create a new datetime with that date and time  \n",
        "*   print the date and time as shown in the expected output below.  \n",
        "\n",
        "**Note:** You will need to join some strings together to create the message. Each part of the date will need to be converted to a string.  Do this with the datetime function strftime:  \n",
        "\n",
        " e.g. `datetime.strftime(date, \"%d\")` for just the day, `datetime.strftime(date, \"%m %Y\")` for the month and year, etc as you can only join strings with strings.  To find the codes for hour, minute and second, as well as other formats of the date values, visit [strftime.org](https://strftime.org/)\n",
        "\n",
        "**Test inputs**:  \n",
        "24  \n",
        "7  \n",
        "2024  \n",
        "17  \n",
        "30  \n",
        "0\n",
        "\n",
        "**Expected output**\n",
        "\n",
        "The set date is 24/7/2024 and the time is 17.30.0"
      ]
    },
    {
      "cell_type": "code",
      "metadata": {
        "id": "gclt-f9-XfdG",
        "colab": {
          "base_uri": "https://localhost:8080/"
        },
        "outputId": "5145d5c5-808d-4077-f6af-309c6ace4af6"
      },
      "source": [
        "from datetime import datetime\n",
        "def create_date_time ():\n",
        "\n",
        " day= int(input(\"enter a day:\"))\n",
        " month=int(input(\"enter a month:\"))\n",
        " year=int(input(\"enter a year:\"))\n",
        " hour=int(input(\"enter an hour:\"))\n",
        " minute=int(input(\"enter a minute:\"))\n",
        " second=int(input(\"enter a second:\"))\n",
        " date_time_obj=datetime(year, month, day,hour, minute, second)\n",
        " print(str(\"The set date is \")+ str(day)+\"/\"+str(month)+\"/\"+str(year)+str(\"and the time is \")+str(hour)+\".\"+str(minute)+\".\"+str(second))\n",
        "\n",
        "create_date_time ()\n",
        "\n",
        ""
      ],
      "execution_count": 42,
      "outputs": [
        {
          "output_type": "stream",
          "name": "stdout",
          "text": [
            "enter a day:24\n",
            "enter a month:7\n",
            "enter a year:2024\n",
            "enter an hour:17\n",
            "enter a minute:30\n",
            "enter a second:0\n",
            "The set date is 24/7/2024and the time is 17.30.0\n"
          ]
        }
      ]
    },
    {
      "cell_type": "markdown",
      "metadata": {
        "id": "js7fy2HWXfm2"
      },
      "source": [
        "---\n",
        "### Exercise 6 - show the date and time in different formats\n",
        "\n",
        "Write a function that will create the same date as before but will then print it in the following 2 formats (using strftime again)\n",
        "\n",
        "Wed 24 July 2024 at 1730 hours  \n",
        "30 minutes past 5pm on July 24 2024\n",
        "\n",
        "*Hint: use 12 hour clock as decimal and remember that you can convert a string to lower case for pm.*"
      ]
    },
    {
      "cell_type": "code",
      "metadata": {
        "id": "KY1jtf3lX_ps",
        "colab": {
          "base_uri": "https://localhost:8080/"
        },
        "outputId": "8ccfe94d-a782-48fa-b922-be7d8e5ae869"
      },
      "source": [
        "from datetime import datetime\n",
        "def show_date_time() :\n",
        " day= int(input(\"enter a day:\"))\n",
        " month=int(input(\"enter a month:\"))\n",
        " year=int(input(\"enter a year:\"))\n",
        " hour=int(input(\"enter an hour:\"))\n",
        " minute=int(input(\"enter a minute:\"))\n",
        " second=int(input(\"enter a second:\"))\n",
        " date_time_obj = datetime(year, month, day, hour, minute, second)\n",
        " print(date_time_obj.strftime(\"%a %d %B %Y at %H%M hours\") )\n",
        " print(date_time_obj.strftime(\"%M minutes past %I%p on %B %d %Y\"))\n",
        "show_date_time()\n",
        ""
      ],
      "execution_count": 45,
      "outputs": [
        {
          "output_type": "stream",
          "name": "stdout",
          "text": [
            "enter a day:24\n",
            "enter a month:7\n",
            "enter a year:2024\n",
            "enter an hour:17\n",
            "enter a minute:30\n",
            "enter a second:0\n",
            "Wed 24 July 2024 at 1730 hours\n",
            "30 minutes past 05PM on July 24 2024\n"
          ]
        }
      ]
    },
    {
      "cell_type": "code",
      "source": [],
      "metadata": {
        "id": "1X00h124t1uU"
      },
      "execution_count": null,
      "outputs": []
    },
    {
      "cell_type": "markdown",
      "metadata": {
        "id": "9BuRDi08YAO0"
      },
      "source": [
        "---\n",
        "### Exercise 7 - display parts of date/time\n",
        "\n",
        "Write a function that will take a date and print from it the following:  \n",
        "*  given date and time  \n",
        "*  year (in full)\n",
        "*  month (as a number)\n",
        "*  month name\n",
        "*  week number of the year  \n",
        "*  weekday of the week (as a number)  \n",
        "*  day of year  \n",
        "*  day of the month  \n",
        "*  day of week (as a short name)  \n"
      ]
    },
    {
      "cell_type": "code",
      "metadata": {
        "id": "zl-37Ez9ahym",
        "colab": {
          "base_uri": "https://localhost:8080/"
        },
        "outputId": "b7082ef5-ce9b-4c10-ad32-9984ad6fcf4e"
      },
      "source": [
        "from datetime import datetime\n",
        "def display_parts_of_date_time():\n",
        " day= int(input(\"enter a day:\"))\n",
        " month=int(input(\"enter a month:\"))\n",
        " year=int(input(\"enter a year:\"))\n",
        " hour=int(input(\"enter an hour:\"))\n",
        " minute=int(input(\"enter a minute:\"))\n",
        " second=int(input(\"enter a second:\"))\n",
        " date_time_obj = datetime(year, month, day, hour, minute, second)\n",
        " print(date_time_obj.strftime(\"%d/%m/%Y %H:%M:%S\"))\n",
        " print(date_time_obj.strftime(\"%Y\"))\n",
        " print(date_time_obj.strftime(\"%m\"))\n",
        " print(date_time_obj.strftime(\"%B\"))\n",
        " print(date_time_obj.strftime(\"%W\"))\n",
        " print(date_time_obj.strftime(\"%w\"))\n",
        " print(date_time_obj.strftime(\"%j\"))\n",
        " print(date_time_obj.strftime(\"%d\"))\n",
        " print(date_time_obj.strftime(\"%a\"))\n",
        "display_parts_of_date_time()\n",
        "\n",
        "\n",
        "\n"
      ],
      "execution_count": 53,
      "outputs": [
        {
          "output_type": "stream",
          "name": "stdout",
          "text": [
            "enter a day:24\n",
            "enter a month:7\n",
            "enter a year:2024\n",
            "enter an hour:17\n",
            "enter a minute:30\n",
            "enter a second:0\n",
            "24/07/2024 17:30:00\n",
            "2024\n",
            "07\n",
            "July\n",
            "30\n",
            "3\n",
            "206\n",
            "24\n",
            "Wed\n"
          ]
        }
      ]
    },
    {
      "cell_type": "markdown",
      "source": [
        "---\n",
        "### Exercise 8 - create a datetime from a string using strptime()\n",
        "\n",
        "Write a function that will:  \n",
        "* create a string to hold a date in the format yyyy:dd:mm\n",
        "* print just the date in the format as shown below:  \n",
        "`day_name day_number short_month year`  \n",
        "\n",
        "Test input:  \n",
        "2023:12:2\n",
        "\n",
        "Expected output:\n",
        "  \n",
        "Sun 12 Feb 2023"
      ],
      "metadata": {
        "id": "Ww3txeHOh7Rm"
      }
    },
    {
      "cell_type": "code",
      "source": [
        "from datetime import datetime\n",
        "def create_datetime_date_time_from_string():\n",
        "dat\n",
        "\n",
        " create_datetime_date_time_from_string()\n"
      ],
      "metadata": {
        "id": "J0pX60wpiVrM",
        "colab": {
          "base_uri": "https://localhost:8080/",
          "height": 106
        },
        "outputId": "384b6162-b4d2-4b95-8bbd-ce11393ae551"
      },
      "execution_count": 60,
      "outputs": [
        {
          "output_type": "error",
          "ename": "IndentationError",
          "evalue": "unindent does not match any outer indentation level (<tokenize>, line 4)",
          "traceback": [
            "\u001b[0;36m  File \u001b[0;32m\"<tokenize>\"\u001b[0;36m, line \u001b[0;32m4\u001b[0m\n\u001b[0;31m    date = datetime.strptime(date_str, \"%Y-%m-%d\")\u001b[0m\n\u001b[0m    ^\u001b[0m\n\u001b[0;31mIndentationError\u001b[0m\u001b[0;31m:\u001b[0m unindent does not match any outer indentation level\n"
          ]
        }
      ]
    },
    {
      "cell_type": "markdown",
      "metadata": {
        "id": "_rpTIoSDaiBj"
      },
      "source": [
        "---\n",
        "### Exercise 9 - next 6 days - a challenge\n",
        "\n",
        "**Scenario**\n",
        "\n",
        "The timedelta function is part of the datetime library and will allow you to create a value to represent a number of days (or months, etc) so that you can create a date in the future (like an expiry date).\n",
        "\n",
        "Watch this [video](https://vimeo.com/989587133/fccf9cb783?share=copy) to see timedelta in use\n",
        "\n",
        "**Your task**\n",
        "\n",
        "Write a function that will take a date and generate the dates of the following 6 days.  It should print each of the 6 days in this format:  \n",
        "\n",
        "e.g.  \n",
        "Friday, May 24 2024  \n",
        "Saturday, May 25 2024  \n",
        "Sunday, May 26 2024  \n",
        "Monday, May 27 2024  \n",
        "Tuesday, May ...\n",
        "\n",
        "*Hint:  to generate the days, use the function datetime.timedelta(), there is a good example of its use [here](https://www.geeksforgeeks.org/python-datetime-timedelta-function/)*\n",
        "\n",
        "DON'T FORGET TO IMPORT timedelta as well as datetime"
      ]
    },
    {
      "cell_type": "code",
      "metadata": {
        "id": "1d-oXqLLb0vX"
      },
      "source": [],
      "execution_count": null,
      "outputs": []
    },
    {
      "cell_type": "markdown",
      "metadata": {
        "id": "22Rhwx2Sb1Ey"
      },
      "source": [
        "---\n",
        "### Optional extra practice\n",
        "\n",
        "There are some similar and some more challenging exercises [here](https://www.w3resource.com/python-exercises/date-time-exercise/) if you would like to practice more. The site has its own editor."
      ]
    },
    {
      "cell_type": "markdown",
      "source": [
        "---\n",
        "# Takeaways\n",
        "\n",
        "* the datetime library has a number of functions for working with dates\n",
        "* you have used the `datetime` function and `timedelta` function\n",
        "* the `strftime()` function helps you to format parts of the date and time into strings to help format the data into text and the `strptime()` function helps you to create dates with differently organised date strings\n",
        "* changing the format of dates is a common data cleaning task"
      ],
      "metadata": {
        "id": "ebyScSG_hKFV"
      }
    },
    {
      "cell_type": "markdown",
      "source": [
        "\n",
        "# Your thoughts on what you have learnt\n",
        "Please add some comments in the box below to reflect on what you have learnt through completing this worksheet, and any problems you encountered while doing so."
      ],
      "metadata": {
        "id": "pe2cow3Or2zS"
      }
    },
    {
      "cell_type": "markdown",
      "source": [],
      "metadata": {
        "id": "5FkYzC0br6wS"
      }
    }
  ]
}