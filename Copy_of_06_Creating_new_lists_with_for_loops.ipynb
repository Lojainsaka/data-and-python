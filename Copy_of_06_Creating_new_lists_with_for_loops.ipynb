{
  "nbformat": 4,
  "nbformat_minor": 0,
  "metadata": {
    "colab": {
      "provenance": [],
      "include_colab_link": true
    },
    "kernelspec": {
      "name": "python3",
      "display_name": "Python 3"
    },
    "language_info": {
      "name": "python"
    }
  },
  "cells": [
    {
      "cell_type": "markdown",
      "metadata": {
        "id": "view-in-github",
        "colab_type": "text"
      },
      "source": [
        "<a href=\"https://colab.research.google.com/github/Lojainsaka/data-and-python/blob/main/Copy_of_06_Creating_new_lists_with_for_loops.ipynb\" target=\"_parent\"><img src=\"https://colab.research.google.com/assets/colab-badge.svg\" alt=\"Open In Colab\"/></a>"
      ]
    },
    {
      "cell_type": "markdown",
      "metadata": {
        "id": "Z-M-RCWATK71"
      },
      "source": [
        "# Using for loops to create lists\n",
        "\n",
        "Before you start this worksheet, if you haven't already done so:\n",
        "\n",
        "*  read through the presentation [here](https://docs.google.com/presentation/d/e/2PACX-1vQT1uOwMod688kWO8Zs-q2lgUFh8n_srZ71X_yGBBEMakojUxMfUDysn3qomoZcojzGS0dKzTNW3kDt/pub?start=false&loop=false&delayms=3000)\n"
      ]
    },
    {
      "cell_type": "markdown",
      "source": [
        "---\n",
        "### Exercise 1 - number list\n",
        "\n",
        "Write a function called **list_numbers()** which will:  \n",
        "\n",
        "*  use a for loop to generate a new list containing all the whole numbers from 20 to 30 including both (*Hint*: the `.append()` method allows you to add items to a list).\n",
        "*  loop through the new list and print each number on a new line.       \n",
        "\n",
        "**Expected output**:  \n",
        "20  \n",
        "21  \n",
        "22  \n",
        "23  \n",
        "24  \n",
        "25  \n",
        "26  \n",
        "27  \n",
        "28  \n",
        "29  \n",
        "30    "
      ],
      "metadata": {
        "id": "jQWIC7v_eVzZ"
      }
    },
    {
      "cell_type": "code",
      "source": [
        "def list_numbers():\n",
        "  for i in range(20,31):\n",
        "    print(i)\n",
        "\n",
        "list_numbers()"
      ],
      "metadata": {
        "id": "R2pLE7FVe1-x",
        "outputId": "4becd7d8-ea21-4eee-f65b-8eff258c527e",
        "colab": {
          "base_uri": "https://localhost:8080/"
        }
      },
      "execution_count": null,
      "outputs": [
        {
          "output_type": "stream",
          "name": "stdout",
          "text": [
            "20\n",
            "21\n",
            "22\n",
            "23\n",
            "24\n",
            "25\n",
            "26\n",
            "27\n",
            "28\n",
            "29\n",
            "30\n"
          ]
        }
      ]
    },
    {
      "cell_type": "markdown",
      "source": [
        "---\n",
        "### Counting in steps\n",
        "\n",
        "e.g. to print the even numbers up to 10 (starting with the first even number)\n",
        "\n",
        "```\n",
        "for i in range(2,11,2):\n",
        "   print(i)\n",
        "```\n",
        "\n",
        "e.g. to print all multiples of 5 from 5 to 50 (starting with the first multiple)\n",
        "\n",
        "```\n",
        "for i in range(5,51,5):\n",
        "   print(i)\n",
        "```\n",
        "\n",
        "e.g. to print the numbers 10 down to 1:\n",
        "\n",
        "```\n",
        "for i in range(10, 0, -1):\n",
        "   print(i)\n",
        "```\n",
        "\n"
      ],
      "metadata": {
        "id": "zXXWZsiMeS4A"
      }
    },
    {
      "cell_type": "markdown",
      "source": [
        "---\n",
        "### Exercise 2 - list of evens  \n",
        "\n",
        "Write a function called **list_evens()** which will:  \n",
        "\n",
        "*  use a for loop to generate a new list containing the even numbers from 2 to 20 (remember you can also count up in 2s)  \n",
        "*  print the list one item per line\n",
        "\n",
        "**Expected output**:  \n",
        "2  \n",
        "4  \n",
        "6  \n",
        "8  \n",
        "10  \n",
        "12  \n",
        "14  \n",
        "16  \n",
        "18  \n",
        "20  "
      ],
      "metadata": {
        "id": "RiRUjG-Pez4b"
      }
    },
    {
      "cell_type": "code",
      "source": [
        "def list_evens():\n",
        "  for i in range(2,21,2):\n",
        "    print(i)\n",
        "\n",
        "list_evens()"
      ],
      "metadata": {
        "id": "WAtuD4JEfgIR",
        "colab": {
          "base_uri": "https://localhost:8080/"
        },
        "outputId": "c7b293d7-51ea-49d3-b9db-704638a03959"
      },
      "execution_count": null,
      "outputs": [
        {
          "output_type": "stream",
          "name": "stdout",
          "text": [
            "2\n",
            "4\n",
            "6\n",
            "8\n",
            "10\n",
            "12\n",
            "14\n",
            "16\n",
            "18\n",
            "20\n"
          ]
        }
      ]
    },
    {
      "cell_type": "markdown",
      "source": [
        "---\n",
        "### Exercise 3 - list multiples  \n",
        "\n",
        "Write a function called **list_multiples()** which will:\n",
        "\n",
        "*  use a for loop to generate a new list containing the multiples of 3 from 3 to 36\n",
        "*  print the list one item per line\n",
        "\n",
        "Expected output:  \n",
        "3  \n",
        "6  \n",
        "9  \n",
        "12  \n",
        "15  \n",
        "18  \n",
        "21  \n",
        "24  \n",
        "27  \n",
        "30  \n",
        "33  \n",
        "36  "
      ],
      "metadata": {
        "id": "Tlrfzw8AfgmR"
      }
    },
    {
      "cell_type": "code",
      "source": [
        "def list_multiples() :\n",
        "  for i in range (3,37,3):\n",
        "    print(i)\n",
        "\n",
        "list_multiples()"
      ],
      "metadata": {
        "id": "bxAEHcSmg5Gi",
        "colab": {
          "base_uri": "https://localhost:8080/"
        },
        "outputId": "d4f4ac77-8af6-4504-a49d-1f0aaed8b8ed"
      },
      "execution_count": null,
      "outputs": [
        {
          "output_type": "stream",
          "name": "stdout",
          "text": [
            "3\n",
            "6\n",
            "9\n",
            "12\n",
            "15\n",
            "18\n",
            "21\n",
            "24\n",
            "27\n",
            "30\n",
            "33\n",
            "36\n"
          ]
        }
      ]
    },
    {
      "cell_type": "markdown",
      "source": [
        "---\n",
        "### Exercise 4 - reverse list\n",
        "\n",
        "Write a function called list_reverse() which will:\n",
        "\n",
        "*  use a for loop to generate a new list containing the numbers 5 to 15 in reverse  \n",
        "*  print the list, one item per line\n",
        "\n",
        "Expected output:  \n",
        "15  \n",
        "14  \n",
        "13  \n",
        "12  \n",
        "11  \n",
        "10  \n",
        "9  \n",
        "8  \n",
        "7  \n",
        "6  \n",
        "5  "
      ],
      "metadata": {
        "id": "BhXUJwiMf9qJ"
      }
    },
    {
      "cell_type": "code",
      "source": [
        "def list_reverse() :\n",
        " for i in range(15,4,-1):\n",
        "    print(i)\n",
        "\n",
        "list_reverse()"
      ],
      "metadata": {
        "id": "lPOBhSI2g7WI",
        "colab": {
          "base_uri": "https://localhost:8080/"
        },
        "outputId": "2b38e2b3-1274-4ed3-8528-cf9906a39f78"
      },
      "execution_count": null,
      "outputs": [
        {
          "output_type": "stream",
          "name": "stdout",
          "text": [
            "15\n",
            "14\n",
            "13\n",
            "12\n",
            "11\n",
            "10\n",
            "9\n",
            "8\n",
            "7\n",
            "6\n",
            "5\n"
          ]
        }
      ]
    },
    {
      "cell_type": "markdown",
      "source": [
        "---\n",
        "### Exercise 5 - calculating times table (Challenging)\n",
        "\n",
        "Write a function called **display_times_table()** which will:  \n",
        "\n",
        "*  ask the user to input a **number**\n",
        "*  use a for loop to generate a list of the multiples of that number (use a for loop and the `range()` function to calculate the first ten multiples of that number)  \n",
        "*  print a times table entry as shown below for each item in the list\n",
        "\n",
        "Test Input:  \n",
        "4  \n",
        "\n",
        "Expected output:  \n",
        "1 x 4 = 4  \n",
        "2 x 4 = 8  \n",
        "3 x 4 = 12  \n",
        "4 x 4 = 16  \n",
        "5 x 4 = 20  \n",
        "6 x 4 = 24  \n",
        "7 x 4 = 28  \n",
        "8 x 4 = 32  \n",
        "9 x 4 = 36  \n",
        "10 x 4 = 40  "
      ],
      "metadata": {
        "id": "Wz3qjHPVhfp8"
      }
    },
    {
      "cell_type": "code",
      "metadata": {
        "id": "UqV817Ct-5qv",
        "colab": {
          "base_uri": "https://localhost:8080/"
        },
        "outputId": "63320004-c1c7-4301-ab82-ec0b02a15265"
      },
      "source": [
        "def display_times_table() :\n",
        "  num = int(input(\"Enter a number: \"))\n",
        "  for i in range(1,11):\n",
        "    print(i, \"x\", num, \"=\", i*num)\n",
        "\n",
        "display_times_table()"
      ],
      "execution_count": null,
      "outputs": [
        {
          "output_type": "stream",
          "name": "stdout",
          "text": [
            "Enter a number: 4\n",
            "1 x 4 = 4\n",
            "2 x 4 = 8\n",
            "3 x 4 = 12\n",
            "4 x 4 = 16\n",
            "5 x 4 = 20\n",
            "6 x 4 = 24\n",
            "7 x 4 = 28\n",
            "8 x 4 = 32\n",
            "9 x 4 = 36\n",
            "10 x 4 = 40\n"
          ]
        }
      ]
    },
    {
      "cell_type": "markdown",
      "metadata": {
        "id": "jOukVT7--6rI"
      },
      "source": [
        "### Exercise 6 - counting down numbers in reverse\n",
        "\n",
        "Write a function called **countdown()** which will:\n",
        "\n",
        "*  ask the user to input a **number**\n",
        "*  prints numbers in a countdown starting at `number`, decreasing by 1 each time round the loop and finishing at 1\n",
        "*  after the loop, print (\"GO\")  (*Hint: only instructions indented to the same level under the 'for' instruction are part of the loop, as soon as you stop indenting to that level, and go back to the level above the 'for' these instructions are no longer in the loop*)\n",
        "\n",
        "Test Input:  \n",
        "9    \n",
        "\n",
        "Expected output:   \n",
        "9  \n",
        "8  \n",
        "7  \n",
        "6  \n",
        "5  \n",
        "4  \n",
        "3  \n",
        "2  \n",
        "1  \n",
        "GO  \n"
      ]
    },
    {
      "cell_type": "code",
      "metadata": {
        "id": "0yZ7PP7HAVdO",
        "colab": {
          "base_uri": "https://localhost:8080/"
        },
        "outputId": "7d0a7fc5-dc76-4689-df51-86a6f4a40a79"
      },
      "source": [
        "def countdown() :\n",
        "  num=int(input(\"input a number: \"))\n",
        "  for i in range(num,0,-1):\n",
        "    print(i)\n",
        "  print(\"GO\")\n",
        "\n",
        "countdown()"
      ],
      "execution_count": null,
      "outputs": [
        {
          "output_type": "stream",
          "name": "stdout",
          "text": [
            "input a number: 9\n",
            "9\n",
            "8\n",
            "7\n",
            "6\n",
            "5\n",
            "4\n",
            "3\n",
            "2\n",
            "1\n",
            "GO\n"
          ]
        }
      ]
    },
    {
      "cell_type": "markdown",
      "source": [
        "---\n",
        "# List comprehension (generating new lists with lists of numbers)\n",
        "\n",
        "You can use a special format for creating lists so that rather than typing all items of the list individually, they will be generated using Python code.\n",
        "\n",
        "**Examples:**\n",
        "\n",
        "Generate a list of twelve 0s (\n",
        "\n",
        "`zero_list = [0 for x in range(12)]`\n",
        "\n",
        "Generate a list of the numbers from 0 to 49\n",
        "\n",
        "`fifty_list = [x for x in range(50)]`\n",
        "\n",
        "Generate a list of the first 10 square numbers\n",
        "\n",
        "`squares_list = [ x**2 for x in range(10)]`\n",
        "\n",
        "Generate a list of the numbers from 5 to 15\n",
        "\n",
        "`numbers_list = [x for x in range(5, 16)]`\n",
        "\n",
        "Think about how these lists are being generated.  The first part describes what x will look like (always 0, the current number or the square of the current number in the examples above).  The part `for x in range(...)` describes the number of items in the list and can sometimes be used to determine value.\n",
        "\n",
        "Use the code box below to see what the output of the lists suggested above would look like."
      ],
      "metadata": {
        "id": "ozooDZjhRI_C"
      }
    },
    {
      "cell_type": "code",
      "source": [
        "generated_list =\n",
        "print(generated_list)"
      ],
      "metadata": {
        "id": "rwjLa22yRvlw"
      },
      "execution_count": null,
      "outputs": []
    },
    {
      "cell_type": "markdown",
      "source": [
        "---\n",
        "### Exercise 7 - generate a list of numbers from 1 to 10\n",
        "\n",
        "Write a function **generate_number_list()** that will:\n",
        "\n",
        "*  use list comprehension techniques to create a list of all the whole numbers between 1 and 10\n",
        "*  use a for loop to print the list one number per line\n"
      ],
      "metadata": {
        "id": "PVAdsXHLQqZt"
      }
    },
    {
      "cell_type": "code",
      "source": [
        "def generate_number_list() :\n",
        "  for i in range(1,11):\n",
        "    print(i)\n",
        "\n",
        "generate_number_list()"
      ],
      "metadata": {
        "id": "6jqnXL0rUiZj",
        "colab": {
          "base_uri": "https://localhost:8080/"
        },
        "outputId": "0292336f-03ee-4ad0-d058-699d39050567"
      },
      "execution_count": null,
      "outputs": [
        {
          "output_type": "stream",
          "name": "stdout",
          "text": [
            "1\n",
            "2\n",
            "3\n",
            "4\n",
            "5\n",
            "6\n",
            "7\n",
            "8\n",
            "9\n",
            "10\n"
          ]
        }
      ]
    },
    {
      "cell_type": "markdown",
      "source": [
        "---\n",
        "### Optional challenge - generate a list of the letters between A and Z using the ord() function\n",
        "\n",
        "Computers recognise letter as number codes (ASCII codes).  In this coding system the letter A is coded 65, the letter Z is coded 90 and all the other capital letters have the numbers in between, in order.\n",
        "\n",
        "To get the letter, use chr(code)  e.g. chr(65) will give A, chr(68) will give D\n",
        "\n",
        "Write a function **generate_alphabet()** that will:\n",
        "\n",
        "*  use list comprehension to create the list of letters from A to Z using the numbers from 65 to 90 and converting the number (x) to its letter using chr(x)\n",
        "*  print the list to show the alphabet"
      ],
      "metadata": {
        "id": "O0NS2nwuUi73"
      }
    },
    {
      "cell_type": "code",
      "source": [
        "def generate_alphabet() :\n",
        "  for i in range(65,91):\n",
        "    print(chr(i))\n",
        "\n",
        "generate_alphabet()\n",
        "\n",
        "print ()\n",
        "\n",
        "def generate_alphabet() :\n",
        "  for i in range(97,122):\n",
        "    print(chr(i))\n",
        "\n",
        "generate_alphabet()"
      ],
      "metadata": {
        "id": "8zsQQkNDV9ur",
        "colab": {
          "base_uri": "https://localhost:8080/"
        },
        "outputId": "1588c1fe-7d1a-418b-8d84-14ba2be2b6b7"
      },
      "execution_count": null,
      "outputs": [
        {
          "output_type": "stream",
          "name": "stdout",
          "text": [
            "A\n",
            "B\n",
            "C\n",
            "D\n",
            "E\n",
            "F\n",
            "G\n",
            "H\n",
            "I\n",
            "J\n",
            "K\n",
            "L\n",
            "M\n",
            "N\n",
            "O\n",
            "P\n",
            "Q\n",
            "R\n",
            "S\n",
            "T\n",
            "U\n",
            "V\n",
            "W\n",
            "X\n",
            "Y\n",
            "Z\n",
            "\n",
            "a\n",
            "b\n",
            "c\n",
            "d\n",
            "e\n",
            "f\n",
            "g\n",
            "h\n",
            "i\n",
            "j\n",
            "k\n",
            "l\n",
            "m\n",
            "n\n",
            "o\n",
            "p\n",
            "q\n",
            "r\n",
            "s\n",
            "t\n",
            "u\n",
            "v\n",
            "w\n",
            "x\n",
            "y\n"
          ]
        }
      ]
    },
    {
      "cell_type": "markdown",
      "source": [
        "---\n",
        "# Takeaways\n",
        "\n",
        "*  the range() function will generate a list of integers either from 0 up to a given number e.g. `range(6)` or between two given numbers e.g. `range(10,20)`\n",
        "* by default, a range will count up in intervals of 1 but you can tell it to count up with any interval, e.g. range(1,10,2) to count up in 2s or range(30, 10, -1) to count backwards  \n",
        "*  there is a special syntax for creating lists like this in one line, called list comprehension\n",
        "*  a list of characters can be generated in this way as they are actually stored as numbers.  ord(character) will get the number and chr(number) will convert the number into the character.  Capital letters use the numbers from 65(A) to 90(Z), lower case letters use the numbers from 97(a) to 122(z)"
      ],
      "metadata": {
        "id": "HB_-DlaMzujh"
      }
    },
    {
      "cell_type": "markdown",
      "source": [
        "# Your thoughts on what you have learnt\n",
        "Please add some comments in the box below to reflect on what you have learnt through completing this worksheet, and any problems you encountered while doing so."
      ],
      "metadata": {
        "id": "5Lckv_0ssJXL"
      }
    },
    {
      "cell_type": "markdown",
      "source": [],
      "metadata": {
        "id": "QNo0l-UTLIO1"
      }
    },
    {
      "cell_type": "markdown",
      "source": [
        "Initially, I found it a bit tricky to remember I need to add  1 to the last number I want to print  in range()  but practicing a few examples helped me grasp the concept.\n",
        "\n",
        "• Understanding the ASCII values for characters (e.g., 65 for ‘A’ and 97 for ‘a’) was a new concept, and it was fascinating to see how these can be used in programming.\n"
      ],
      "metadata": {
        "id": "9dt1G0UsK8RV"
      }
    },
    {
      "cell_type": "markdown",
      "source": [],
      "metadata": {
        "id": "uRdk007GN-W0"
      }
    },
    {
      "cell_type": "markdown",
      "source": [],
      "metadata": {
        "id": "8iSJwu-RMcj2"
      }
    },
    {
      "cell_type": "markdown",
      "source": [],
      "metadata": {
        "id": "aQMGcvJfLFzP"
      }
    },
    {
      "cell_type": "markdown",
      "source": [],
      "metadata": {
        "id": "Rbn6vQXxsKZZ"
      }
    }
  ]
}