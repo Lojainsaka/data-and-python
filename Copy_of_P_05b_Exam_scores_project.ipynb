{
  "nbformat": 4,
  "nbformat_minor": 0,
  "metadata": {
    "colab": {
      "provenance": [],
      "include_colab_link": true
    },
    "kernelspec": {
      "name": "python3",
      "display_name": "Python 3"
    },
    "language_info": {
      "name": "python"
    }
  },
  "cells": [
    {
      "cell_type": "markdown",
      "metadata": {
        "id": "view-in-github",
        "colab_type": "text"
      },
      "source": [
        "<a href=\"https://colab.research.google.com/github/Lojainsaka/data-and-python/blob/main/Copy_of_P_05b_Exam_scores_project.ipynb\" target=\"_parent\"><img src=\"https://colab.research.google.com/assets/colab-badge.svg\" alt=\"Open In Colab\"/></a>"
      ]
    },
    {
      "cell_type": "markdown",
      "source": [
        "# Project Template\n",
        "\n",
        "\n",
        "\n",
        "---\n",
        "\n"
      ],
      "metadata": {
        "id": "p4J_O-vcXj2S"
      }
    },
    {
      "cell_type": "markdown",
      "source": [
        "### Instructions\n",
        "\n",
        "Each section will relate to a different part of the Data Life Cycle and will include instructions, then a separate text block for you to write your own comments about what you have done and why.\n",
        "\n",
        "Add additional code and text blocks as required and delete the blocks titled 'Instructions' when you are finished.\n",
        "\n",
        "Read this [Markdown Guide](https://colab.research.google.com/notebooks/markdown_guide.ipynb#scrollTo=Lhfnlq1Surtk) for examples of how to change the appearance of your text\n",
        "\n",
        "Read this [article](https://medium.com/@nanaliu/a-seamless-guide-to-embedding-photos-into-google-colab-894167bfde3a) to learn how to insert images saved on your Google Drive into a Colab notebook."
      ],
      "metadata": {
        "id": "w8IRQjscADdu"
      }
    },
    {
      "cell_type": "markdown",
      "source": [
        "## Define the Problem\n",
        "\n",
        "\n",
        "\n",
        "---\n",
        "\n"
      ],
      "metadata": {
        "id": "cTAxcqRSaQA_"
      }
    },
    {
      "cell_type": "markdown",
      "source": [
        "## Source data\n",
        "\n",
        "The following data file contains data about student scores in math, reading and writing.  The exam scores are assumed to be percentages. It also contains data about gender, ethnicity, parental education, whether the student qualifies for free school food and whether or not the student has taken a preparation course for the exams.  The data set has already been cleaned.\n",
        "\n",
        "Investigate this data set first before starting to frame your questions.  \n",
        "\n",
        "The dataset is in CSV format and can be accessed here:  \n",
        "\n",
        "https://raw.githubusercontent.com/lilaceri/Working-with-data-/main/Data%20Sets%20for%20code%20divisio/exams.csv\n",
        "\n",
        "**NOTE:** Some useful references are included at the bottom of the file."
      ],
      "metadata": {
        "id": "k1xsA96YEC_N"
      }
    },
    {
      "cell_type": "markdown",
      "source": [
        "\n",
        "Does taking a test preparation course improve student performance in math, reading, and writing?\n",
        "example of other question could be asked\n",
        "\n"
      ],
      "metadata": {
        "id": "XwOFbS-veoIy"
      }
    },
    {
      "cell_type": "markdown",
      "source": [
        "**Does parental education affect student score?**\n",
        "\n",
        "\n",
        "\n",
        "\n",
        "\n",
        "**Background:**\n",
        "\n",
        "Parental education level refers to the highest level of education completed by a student's parents. This factor is often linked to student performance because parents with higher education levels may have more resources, knowledge, and strategies to support their child's learning. They might provide better academic guidance, access to study materials, and a home environment that encourages education.\n",
        "\n",
        "In this dataset, parental education is categorized into different levels (e.g., high school, associate’s degree, bachelor’s degree, etc.), and student scores in math, reading, and writing are given as percentages.\n",
        "\n",
        " By analyzing whether students with parents of higher educational backgrounds tend to perform better on exams, we can assess the impact of parental education on academic success.\n",
        "\n",
        "**Importance of the Question:**\n",
        "\n",
        " *Educational Support:*\n",
        "\n",
        " Understanding this relationship can help schools design targeted interventions for students whose parents have lower levels of education.\n",
        "\n",
        "*Policy Decisions:*\n",
        "\n",
        "Educational institutions and policymakers can use this insight to provide additional resources, such as tutoring programs or parental engagement initiatives.\n",
        "\n",
        "*Reducing Achievement Gaps:*\n",
        "\n",
        " If a strong correlation exists, efforts can be made to ensure all students, regardless of parental background, have equal learning opportunities."
      ],
      "metadata": {
        "id": "Drs_h50ZPn1J"
      }
    },
    {
      "cell_type": "markdown",
      "source": [
        "## Collect the Data\n",
        "\n",
        "---"
      ],
      "metadata": {
        "id": "1laU9L8caXJn"
      }
    },
    {
      "cell_type": "markdown",
      "source": [
        "### Instructions\n",
        "\n",
        "1. Decide and state what data you need to answer your question.\n",
        "2. Explain where you will find this data or how you will collect it.\n",
        "3. For each datasource you intend to use, create a new text block to describe the data and the fields it contains, show a link to the original dataset and any documentation associated with it.\n",
        "4. Below each text block associated with a datasource, add a code block to import that dataset, either from the online source or your own Google Drive.\n",
        "5. Make sure you've fully researched your data!\n"
      ],
      "metadata": {
        "id": "kvCbvRLkfCoQ"
      }
    },
    {
      "cell_type": "markdown",
      "source": [
        "The code below will read the data into a dataframe, ready for you to convert into three numpy arrays, one for each set of scores."
      ],
      "metadata": {
        "id": "MU9GtUfPEUUM"
      }
    },
    {
      "cell_type": "code",
      "source": [],
      "metadata": {
        "id": "lqqoj-0LeKc-"
      },
      "execution_count": null,
      "outputs": []
    },
    {
      "cell_type": "markdown",
      "source": [
        "\n",
        "\n",
        "1.   to investigate the relationship between\n",
        "parental education and student scores, we need the following data:\n",
        "Parental Education Level: This will be a categorical variable representing the highest educational degree attained by the student's parents.\n",
        "Student Scores: We need the scores for each student in math, reading, and writing. These will be numerical variables.\n",
        "\n",
        "\n",
        "2.   The dataset is in CSV format and can be accessed here:\n",
        "\n",
        "https://raw.githubusercontent.com/lilaceri/Working-with-data-/main/Data%20Sets%20for%20code%20divisio/exams.csv\n",
        "\n",
        "\n",
        "\n",
        "3. Dataset Description\n",
        "The dataset, named exams.csv, contains information about student performance on standardized tests. Here's a breakdown of the relevant fields:\n",
        "\n",
        "* gender: The student's gender (male/female).\n",
        "\n",
        "*  race/ethnicity: The student's racial or ethnic background.\n",
        "\n",
        "*   **parental level of education:** The highest level of education attained by the student's parents.\n",
        "*    lunch: Whether the student qualifies for free or reduced-price lunch.\n",
        "\n",
        "*   **test preparation course:** Whether the student completed a test preparation course.\n",
        "\n",
        "*  math score: The student's score on the math test.\n",
        "*reading score:  The student's score on the reading test.\n",
        "*writing score: The student's score on the writing test.\n",
        "4.   List item\n",
        "\n"
      ],
      "metadata": {
        "id": "MCuO0o9TYf3M"
      }
    },
    {
      "cell_type": "markdown",
      "source": [],
      "metadata": {
        "id": "qFYUTMOQcGdY"
      }
    },
    {
      "cell_type": "markdown",
      "source": [
        "This code imports the pandas library, defines the URL of the dataset, and then uses the read_csv function to load the data into a pandas DataFrame called df."
      ],
      "metadata": {
        "id": "ofPu-3yKcDBQ"
      }
    },
    {
      "cell_type": "code",
      "source": [
        "import pandas as pd\n",
        "import numpy as np\n",
        "  #import that dataset, either from the online source or your own Google Drive.\n",
        "url = \"https://raw.githubusercontent.com/lilaceri/Working-with-data-/main/Data%20Sets%20for%20code%20divisio/exams.csv\"\n",
        "df = pd.read_csv(url)\n",
        "df.info()"
      ],
      "metadata": {
        "id": "cfCo14aPEXSs",
        "colab": {
          "base_uri": "https://localhost:8080/"
        },
        "outputId": "4df8442d-edcd-49a7-b1b5-30fd23e7f6a7"
      },
      "execution_count": null,
      "outputs": [
        {
          "output_type": "stream",
          "name": "stdout",
          "text": [
            "<class 'pandas.core.frame.DataFrame'>\n",
            "RangeIndex: 1000 entries, 0 to 999\n",
            "Data columns (total 8 columns):\n",
            " #   Column              Non-Null Count  Dtype \n",
            "---  ------              --------------  ----- \n",
            " 0   gender              1000 non-null   object\n",
            " 1   ethnicity           1000 non-null   object\n",
            " 2   parental_education  1000 non-null   object\n",
            " 3   lunch               1000 non-null   object\n",
            " 4   preparation_course  1000 non-null   object\n",
            " 5   math_score          1000 non-null   int64 \n",
            " 6   reading_score       1000 non-null   int64 \n",
            " 7   writing_score       1000 non-null   int64 \n",
            "dtypes: int64(3), object(5)\n",
            "memory usage: 62.6+ KB\n"
          ]
        }
      ]
    },
    {
      "cell_type": "markdown",
      "source": [
        "\n"
      ],
      "metadata": {
        "id": "DAKffOeob0IL"
      }
    },
    {
      "cell_type": "code",
      "source": [
        "i"
      ],
      "metadata": {
        "id": "v9miZZJ_lJ7S"
      },
      "execution_count": null,
      "outputs": []
    },
    {
      "cell_type": "code",
      "source": [],
      "metadata": {
        "id": "8V2KtdSCbzz4"
      },
      "execution_count": null,
      "outputs": []
    },
    {
      "cell_type": "code",
      "source": [
        "df.to_csv('exam_score.csv')\n"
      ],
      "metadata": {
        "id": "7B8mIUyMvqxm"
      },
      "execution_count": null,
      "outputs": []
    },
    {
      "cell_type": "markdown",
      "source": [
        "DOUBLE CLICK HERE TO WRITE YOUR COMMENTS"
      ],
      "metadata": {
        "id": "tqudKl86C85E"
      }
    },
    {
      "cell_type": "markdown",
      "source": [
        "# Clean and transform\n",
        "---"
      ],
      "metadata": {
        "id": "W-d_eL8ADmZG"
      }
    },
    {
      "cell_type": "markdown",
      "source": [
        "### Instructions\n",
        "\n",
        "1. For each dataset, perform validation and cleaning on each column and give a written description of what you have done and why, particularly how you have decided to deal with missing values.\n",
        "2. Extract new features from your dataset if applicable.\n",
        "3. Perform any joining or merging of data you feel is applicable and explain why you have done this.\n",
        "4. Reshape the data if necessary, and provide a written explanation of what you have done and why.\n",
        "5. Filter out any data you definitely don't need for your analysis.\n",
        "6. Save your transformed data for use in other software.\n"
      ],
      "metadata": {
        "id": "TU0eedvDfMGV"
      }
    },
    {
      "cell_type": "markdown",
      "source": [
        "### Suggestions\n",
        "\n",
        "*  Create numpy arrays to hold each of the three sets of scores.  \n",
        "*  calculate range, mean, standard deviation, median, interquartile range\n",
        "Create a new numpy array to hold the average exam score (of the three scores for each student)\n",
        "\n",
        "*  Using a loop, convert each row into a dictionary and add it to a new list so that you have a list of dictionaries\n",
        "\n",
        "*  Create two new lists, one containing all the records for males and one for females\n",
        "*  Calculate mean scores for each exam for males, and mean scores for each exam for females\n",
        "*  Compare each average with the overall averages\n",
        "*  Do the same for the ethnicity.\n",
        "\n"
      ],
      "metadata": {
        "id": "8ERFH9LiEh4O"
      }
    },
    {
      "cell_type": "markdown",
      "source": [
        "DOUBLE CLICK HERE TO WRITE YOUR COMMENTS"
      ],
      "metadata": {
        "id": "-I_YeORpfaNk"
      }
    },
    {
      "cell_type": "code",
      "source": [
        "df.isnull().sum()     # check for missing values\n",
        "df.to_csv('transformed_data.csv', index=False)\n",
        "df.dtypes                #Ensure that each column has the correct data type\n"
      ],
      "metadata": {
        "id": "a4yluXmqaeuJ"
      },
      "execution_count": null,
      "outputs": []
    },
    {
      "cell_type": "markdown",
      "source": [],
      "metadata": {
        "id": "KUV-tKS8kxXe"
      }
    },
    {
      "cell_type": "code",
      "source": [
        "def calculate_statistics(df):\n",
        "   # Create numpy arrays to hold each of the three sets of scores.\n",
        "  math_scores = df['math score'].to_numpy()\n",
        "  reading_scores = df['reading score'].to_numpy()\n",
        "  writing_scores = df['writing score'].to_numpy()\n",
        "\n",
        "\n",
        " interquartile range Create a new numpy array to hold the average exam score (of the three scores for each student)\n",
        "  #mean\n",
        " mathmean= np.mean(math_scores)\n",
        " readingmean= np.mean(reading_scores)\n",
        " writingmean= np.mean(writing_scores)\n",
        "  #median\n",
        " mathmedian= np.median(math_scores)\n",
        " readingmedian= np.median(reading_scores)\n",
        " writingmedian= np.median(writing_scores)\n",
        "  #standard deviation\n",
        " mathstd= np.std(math_scores)\n",
        " readingstd= np.std(reading_scores)\n",
        " writingstd= np.std(writing_scores)\n",
        "  #Max&Min\n",
        " mathmin= np.min(math_scores)\n",
        " readingmin= np.min(reading_scores)\n",
        " writingmin= np.min(writing_scores)\n",
        " mathmax= np.max(math_scores)\n",
        " readingmax= np.max(reading_scores)\n",
        " writingmax= np.max(writing_scores)\n",
        "\n",
        " #calculate range,\n",
        " mathrange= mathmax-mathmin\n",
        " readingrange= readingmax-readingmin\n",
        " writingrange= writingmax-writingmin\n",
        "\n",
        " # First quartile\n",
        "\n",
        " mathq1= np.percentile(math_scores, 25)\n",
        " readingq1= np.percentile(reading_scores, 25)\n",
        " writingq1= np.percentile(writing_scores, 25)\n",
        "\n",
        "q3 = np.percentile(scores, 75)  # Third quartile\n",
        "\n",
        "\n",
        "# Create an array for average exam scores\n",
        "average_scores = (math_scores + reading_scores + writing_scores) / 3"
      ],
      "metadata": {
        "id": "7flTgwvbk2_W"
      },
      "execution_count": null,
      "outputs": []
    },
    {
      "cell_type": "markdown",
      "source": [
        "## Analyse\n",
        "\n",
        "\n",
        "---\n",
        "\n"
      ],
      "metadata": {
        "id": "ucsYhp4Aae-E"
      }
    },
    {
      "cell_type": "code",
      "source": [
        "import numpy as np\n",
        "\n",
        "# Create NumPy arrays for each set of scores\n",
        "math_scores = df['math score'].to_numpy()\n",
        "reading_scores = df['reading score'].to_numpy()\n",
        "writing_scores = df['writing score'].to_numpy()\n",
        "\n",
        "# Calculate statistics for each set of scores\n",
        "def calculate_stats(scores):\n",
        "  \"\"\"Calculates range, mean, standard deviation, median, and interquartile range.\"\"\"\n",
        "  score_range = np.ptp(scores)  # Range\n",
        "  score_mean = np.mean(scores)  # Mean\n",
        "  score_std = np.std(scores)  # Standard Deviation\n",
        "  score_median = np.median(scores)  # Median\n",
        "  q1 = np.percentile(scores, 25)  # First quartile\n",
        "  q3 = np.percentile(scores, 75)  # Third quartile\n",
        "  score_iqr = q3 - q1  # Interquartile Range\n",
        "  return score_range, score_mean, score_std, score_median, score_iqr\n",
        "\n",
        "math_stats = calculate_stats(math_scores)\n",
        "reading_stats = calculate_stats(reading_scores)\n",
        "writing_stats = calculate_stats(writing_scores)\n",
        "\n",
        "# Create an array for average exam scores\n",
        "average_scores = (math_scores + reading_scores + writing_scores) / 3\n",
        "\n",
        "import pandas as pd\n",
        "\n",
        "\n",
        "male_means = df[df['gender'] == 'male'][['math score', 'reading score', 'writing score']].mean()\n",
        "female_means = df[df['gender'] == 'female'][['math score', 'reading score', 'writing score']].mean()\n",
        "\n",
        "print(\"Mean scores for males:\\n\", male_means)\n",
        "print(\"\\nMean scores for females:\\n\", female_means)\n",
        "\n",
        "import pandas as pd\n",
        "\n",
        "# Compare each average with the overall averages\n",
        "\n",
        "# Calculate overall averages\n",
        "overall_means = df[['math score', 'reading score', 'writing score']].mean()\n",
        "\n",
        "# Calculate gender-specific averages\n",
        "male_means = df[df['gender'] == 'male'][['math score', 'reading score', 'writing score']].mean()\n",
        "female_means = df[df['gender'] == 'female'][['math score', 'reading score', 'writing score']].mean()\n",
        "\n",
        "# Compare with overall averages\n",
        "print(\"Overall Averages:\\n\", overall_means)\n",
        "print(\"\\nMale Averages:\\n\", male_means)\n",
        "print(\"\\nFemale Averages:\\n\", female_means)\n",
        "\n",
        "# You can further analyze the differences by calculating the difference between\n",
        "# gender-specific averages and overall averages:\n",
        "\n",
        "male_diff = male_means - overall_means\n",
        "female_diff = female_means - overall_means\n",
        "\n",
        "print(\"\\nDifference between Male and Overall Averages:\\n\", male_diff)\n",
        "print(\"\\nDifference between Female and Overall Averages:\\n\", female_diff)\n"
      ],
      "metadata": {
        "id": "sqDb4yUNk0P5"
      },
      "execution_count": null,
      "outputs": []
    },
    {
      "cell_type": "markdown",
      "source": [
        "### Instructions\n",
        "\n",
        "You can either perform your exploratory data analysis in this Colab notebook below or in Excel. If you choose the latter, take screenshots of the graphs and add them to a text box.\n",
        "\n",
        "\n",
        "\n",
        "1. Explore your data by looking at the range of numerical and categorical values present and calculate summary statistics\n",
        "2. Plot at least two univariate graph of different variables.\n",
        "3. Plot at least one bivariate graph to compare two variables.\n",
        "4. Describe your finding for all of the above\n",
        "\n",
        "### Suggestions\n",
        "\n",
        "* Use the original numpy arrays to find the correlation coefficient for reading and maths.  How closely do they correlate?  Write what you find in a text box below the code.\n",
        "\n",
        "* Do the same for reading and writing. What do you find?\n",
        "\n",
        "* You might want to filter on different criteria and check correlation (e.g. those on free school meals, or those who had prepared, etc)"
      ],
      "metadata": {
        "id": "aUfudTFtfcry"
      }
    },
    {
      "cell_type": "markdown",
      "source": [
        "DOUBLE CLICK HERE TO WRITE YOUR COMMENTS"
      ],
      "metadata": {
        "id": "DQrEEFAtfl_o"
      }
    },
    {
      "cell_type": "code",
      "source": [
        "# add your code here"
      ],
      "metadata": {
        "id": "LlNQ9LrzapLA"
      },
      "execution_count": null,
      "outputs": []
    },
    {
      "cell_type": "markdown",
      "source": [
        "## Interpret and Visualise\n",
        "\n",
        "\n",
        "---\n",
        "\n"
      ],
      "metadata": {
        "id": "t-IprkKkaks9"
      }
    },
    {
      "cell_type": "markdown",
      "source": [
        "### Instructions\n",
        "\n",
        "1. Load the original dataset(s) into PowerBI.\n",
        "2. Create a number of different visualisations that emphasise your findings.\n",
        "3. For each visualisation, add a text box to explain what it shows.\n",
        "4. Take screenshots of your work and add them in the text box."
      ],
      "metadata": {
        "id": "YLvGKJoRfdH6"
      }
    },
    {
      "cell_type": "markdown",
      "source": [
        "DOUBLE CLICK HERE TO WRITE YOUR COMMENTS AND ADD VISUALS"
      ],
      "metadata": {
        "id": "G3EYjKLQfwbQ"
      }
    },
    {
      "cell_type": "markdown",
      "source": [
        "## Tell the Story\n",
        "\n",
        "\n",
        "\n",
        "---\n",
        "\n"
      ],
      "metadata": {
        "id": "e2weqIKeaoOE"
      }
    },
    {
      "cell_type": "markdown",
      "source": [
        "### Instructions\n",
        "\n",
        "1. Combine your visualisations and text into a PowerBI report\n",
        "2. Arrange your work so that it tells the story of your data and what conclusions you have drawn.\n",
        "3. Add comments on what the next steps would be in terms of further analysis, if appropriate.\n",
        "4. Write a summary of your report and share a link to it.\n"
      ],
      "metadata": {
        "id": "Z6u5n9DFfd9p"
      }
    },
    {
      "cell_type": "markdown",
      "source": [
        "DOUBLE CLICK HERE TO WRITE YOUR COMMENTS AND ADD VISUALS"
      ],
      "metadata": {
        "id": "Vq3qXiDRfxWr"
      }
    },
    {
      "cell_type": "markdown",
      "source": [
        "## Evaluate the Process\n",
        "\n",
        "\n",
        "---\n",
        "\n"
      ],
      "metadata": {
        "id": "d_sOgyilatIK"
      }
    },
    {
      "cell_type": "markdown",
      "source": [
        "### Instructions\n",
        "\n",
        "Evaluate each of the steps in your project answering any of the following questions that are relevant:\n",
        "1. What were you pleased with?\n",
        "2. What did you find difficult?\n",
        "3. What would you do differently?\n",
        "4. What have you learnt?\n",
        "\n"
      ],
      "metadata": {
        "id": "Qm6TVNp8feqA"
      }
    },
    {
      "cell_type": "markdown",
      "source": [
        "DOUBLE CLICK HERE TO WRITE YOUR COMMENTS"
      ],
      "metadata": {
        "id": "CZTB1yklfyXA"
      }
    }
  ]
}